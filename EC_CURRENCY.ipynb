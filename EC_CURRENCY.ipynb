{
 "cells": [
  {
   "cell_type": "code",
   "execution_count": 2,
   "id": "92691dc2",
   "metadata": {},
   "outputs": [],
   "source": [
    "import time\n",
    "import requests\n",
    "from bs4 import BeautifulSoup\n",
    "from selenium import webdriver\n",
    "from selenium.webdriver.common.by import By\n",
    "from selenium.webdriver.support.ui import WebDriverWait\n",
    "from selenium.webdriver.support import expected_conditions as EC\n",
    "from webdriver_manager.chrome import ChromeDriverManager"
   ]
  },
  {
   "cell_type": "code",
   "execution_count": 3,
   "id": "b4a2cb27",
   "metadata": {},
   "outputs": [],
   "source": [
    "from selenium.webdriver.chrome.service import Service\n"
   ]
  },
  {
   "cell_type": "code",
   "execution_count": 6,
   "id": "ae00d357",
   "metadata": {},
   "outputs": [],
   "source": [
    "url = 'https://www.bce.fin.ec/index.php/cotizaciones/tabla-referencial-de-cotizaciones'\n"
   ]
  },
  {
   "cell_type": "code",
   "execution_count": 7,
   "id": "e9dd9b37",
   "metadata": {},
   "outputs": [],
   "source": [
    "# Replace this with the date you want to select in the filter\n",
    "#selected_date = '2023-07-21'\n",
    "\n",
    "chrome_driver_path = r'C:\\Users\\MOHAN_E0313\\chromedriver.exe'\n",
    "# Use selenium to render the page with JavaScript\n",
    "#driver = webdriver.Chrome(executable_path=driver_path)\n",
    "#driver.get(url)\n",
    "\n",
    "\n",
    "\n",
    "service = Service(executable_path=chrome_driver_path)\n",
    "driver = webdriver.Chrome(service=service)\n",
    "driver.get(url)\n",
    "\n",
    "\n",
    "#driver.implicitly_wait(10)\n",
    "#river.find_element(By.ID, \"Datepicker\").click()\n",
    "\n",
    "\n",
    "#driver.find_element(By.XPATH, \"//a[text() = '21']\").click()"
   ]
  },
  {
   "cell_type": "code",
   "execution_count": null,
   "id": "1ef245fb",
   "metadata": {},
   "outputs": [],
   "source": []
  },
  {
   "cell_type": "code",
   "execution_count": null,
   "id": "bb9f0e03",
   "metadata": {},
   "outputs": [],
   "source": []
  }
 ],
 "metadata": {
  "kernelspec": {
   "display_name": "Python 3 (ipykernel)",
   "language": "python",
   "name": "python3"
  },
  "language_info": {
   "codemirror_mode": {
    "name": "ipython",
    "version": 3
   },
   "file_extension": ".py",
   "mimetype": "text/x-python",
   "name": "python",
   "nbconvert_exporter": "python",
   "pygments_lexer": "ipython3",
   "version": "3.11.3"
  }
 },
 "nbformat": 4,
 "nbformat_minor": 5
}
